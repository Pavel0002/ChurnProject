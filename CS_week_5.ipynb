{
 "cells": [
  {
   "cell_type": "markdown",
   "metadata": {},
   "source": [
    "# Peer-graded Assignment: Эксперименты с моделью\n",
    "\n",
    "На прошлой неделе вы поучаствовали в соревновании на kaggle и, наверняка, большинство успешно справилось с прохождением baseline, а значит пора двигаться дальше - заняться оптимизацией модели, провести серию экспериментов и построить сильное финальное решения.\n",
    "\n",
    "В этом задании вам нужно провести ряд эскпериментов, оценить качество полученных в процессе экспериментирования моделей и выбрать лучшее решение. "
   ]
  },
  {
   "cell_type": "markdown",
   "metadata": {},
   "source": [
    "Задание будет оцениваться на основании загруженного jupyther notebook и развернутых ответов на поставленные вопросы."
   ]
  },
  {
   "cell_type": "markdown",
   "metadata": {},
   "source": [
    "## Инструкции"
   ]
  },
  {
   "cell_type": "markdown",
   "metadata": {},
   "source": [
    "1\\. Начнем с простого. Давайте оценим как много объектов действительно нужно для построения качественной модели. Для обучения доступна достаточно большая выборка и может так оказаться, что начиная с некоторого момента рост размера обучающей выборки перестает влиять на качество модели. Постройте кривые обучения, обучая модель на выборках разного размера начиная с небольшого количество объектов в обучающей выборке и постепенно наращивая её размер с некоторым шагом. Обратите внимание на `sklearn.model_selection.learning_curve`"
   ]
  },
  {
   "cell_type": "code",
   "execution_count": 242,
   "metadata": {},
   "outputs": [],
   "source": [
    "#cначала загрузим данные и подготовим модель с прошлой недели\n",
    "import pandas as pd\n",
    "import numpy as np\n",
    "data = pd.read_csv('orange_small_churn_data.csv', delimiter =',')\n",
    "data['labels'] = pd.read_csv('orange_small_churn_labels.csv', header=None)\n",
    "#конвертируем колонку labels в int\n",
    "data = data.astype({'labels': 'int32'})\n",
    "#заменим все -1 в целевой переменной на 0\n",
    "data['labels'] = data['labels'].map({1: 1, -1: 0})\n",
    "from sklearn.model_selection import train_test_split\n",
    "data, test = train_test_split(data, test_size=0.15, random_state=42)\n",
    "target = np.array(data.iloc[:,-1])\n",
    "target_test = np.array(test.iloc[:,-1])\n",
    "#подготовим даные:\n",
    "#выделим категориальные признаки (для baseline решения, возможно будет достаточно числовых)\n",
    "numericalVarCount = 190\n",
    "categorialVarCount = 40\n",
    "\n",
    "data_num = data.iloc[:, 0:numericalVarCount]\n",
    "#удалим числовые признаки, содержащие слишком большое количество NaN - значений\n",
    "threshold = 0.7\n",
    "NaN_frac = data_num.isna().sum(axis = 0)/data_num.shape[0]\n",
    "numVarsToStay = list(NaN_frac[NaN_frac < threshold].index)\n",
    "data_num = data_num.loc[:,numVarsToStay]\n",
    "#Перед построением моделей, подготовим данные: заменим NaN на медианные значения,\n",
    "medians = data_num.median()\n",
    "data_num.fillna(medians, inplace=True)\n",
    "#выполним стандартизацию числовых признаков\n",
    "from sklearn.preprocessing import StandardScaler\n",
    "scaler = StandardScaler()\n",
    "data_num = scaler.fit_transform(data_num)\n",
    "\n",
    "# #обработаем категориальные признаки методикой one-hot-encoding\n",
    "from sklearn.feature_extraction import DictVectorizer as DV\n",
    "data_cat = data.iloc[:, numericalVarCount:-1]\n",
    "\n",
    "data_cat_oh = pd.get_dummies(data_cat, dummy_na=True, drop_first=True)\n",
    "NaN_frac = data_cat.isna().sum(axis = 0)/data_cat.shape[0]\n",
    "NaN_frac\n",
    "threshold = 0.1\n",
    "NaN_frac = data_cat.isna().sum(axis = 0)/data_num.shape[0]\n",
    "catVarsToStay = list(NaN_frac[NaN_frac < threshold].index)\n",
    "data_cat = data_cat.loc[:,catVarsToStay]\n",
    "data_cat = data_cat.fillna('NA').astype(str)\n",
    "\n",
    "#Подсчитаем количество уникальных значений в категориальных признаках, от этого будет зависеть способ кодировки\n",
    "unique_counts = []\n",
    "for c in data_cat.columns:\n",
    "    unique_counts.append(data_cat[c].dropna().unique().shape[0])\n",
    "cat_unique = pd.DataFrame()\n",
    "cat_unique['unique_counts'] = unique_counts\n",
    "cat_unique.index = data_cat.columns\n",
    "cat_unique.sort_values(by='unique_counts', ascending=False)\n",
    "cat_unique\n",
    "\n",
    "cat_feat_for_OHE = list(cat_unique[cat_unique['unique_counts'] < 50].index)\n",
    "cat_feat_for_OHE\n",
    "encoder = DV(sparse = False)\n",
    "data_cat_oh = encoder.fit_transform(data_cat[cat_feat_for_OHE].T.to_dict().values())\n",
    "\n",
    "data_all = np.hstack((data_num,data_cat_oh))\n",
    "data_all.shape\n",
    "\n",
    "#выполняем на ней ту же обработку, что для набора обучения\n",
    "test_num = test.iloc[:, 0:numericalVarCount]\n",
    "#выкинем признаки, которые выкидывали при обучении\n",
    "test_num = test.loc[:,numVarsToStay]\n",
    "#заполним NaN медианными значениями train!!! набора\n",
    "test_num.fillna(medians, inplace=True)\n",
    "#выполним стандартизацию, с теми же параметрами, что при обучении:\n",
    "test_num = scaler.transform(test_num)\n",
    "test_cat = test.iloc[:, numericalVarCount:-1]\n",
    "test_cat = test_cat.loc[:,catVarsToStay]\n",
    "test_cat = test_cat.fillna('NA').astype(str)\n",
    "test_cat_oh = encoder.transform(test_cat[cat_feat_for_OHE].T.to_dict().values())\n",
    "test_all = np.hstack((test_num,test_cat_oh))\n",
    "\n",
    "\n",
    "#будем использовать следующие модели для baseline решения:\n",
    "#RandomForestClassifier, RidgeClassifier и SGDClassifier\n",
    "#ввиду несбалансированности выборок везде используем class_weight='balanced'\n",
    "from sklearn.linear_model import SGDClassifier\n",
    "from sklearn.model_selection import cross_val_score\n",
    "clf = SGDClassifier(loss = 'log', class_weight='balanced', max_iter=1000, tol=1e-4, alpha=0.01, random_state=42)\n",
    "\n",
    "scores = cross_val_score(clf, data_all, target, cv=3, scoring = 'f1')\n",
    "basic_score = scores.mean()\n",
    "\n",
    "# clf.fit(data_all, target)"
   ]
  },
  {
   "cell_type": "code",
   "execution_count": 243,
   "metadata": {},
   "outputs": [],
   "source": [
    "#используем подготовленные данные и модель для построения кривых обучения\n",
    "from sklearn.model_selection import learning_curve\n",
    "train_sizes=np.linspace(.1, 1.0, 5)\n",
    "train_sizes, train_scores, test_scores = learning_curve(clf, data_all, target,train_sizes=train_sizes, n_jobs=1, cv= None,scoring = 'f1')"
   ]
  },
  {
   "cell_type": "code",
   "execution_count": 244,
   "metadata": {},
   "outputs": [
    {
     "data": {
      "text/plain": [
       "array([ 0.26900179,  0.20142836,  0.20030722,  0.19814001,  0.20743172])"
      ]
     },
     "execution_count": 244,
     "metadata": {},
     "output_type": "execute_result"
    }
   ],
   "source": [
    "train_scores_mean = np.mean(train_scores, axis=1)\n",
    "train_scores_mean"
   ]
  },
  {
   "cell_type": "code",
   "execution_count": 245,
   "metadata": {},
   "outputs": [
    {
     "data": {
      "text/plain": [
       "array([ 0.18030355,  0.18540377,  0.19096725,  0.19257354,  0.19898689])"
      ]
     },
     "execution_count": 245,
     "metadata": {},
     "output_type": "execute_result"
    }
   ],
   "source": [
    "test_scores_mean = np.mean(test_scores, axis=1)\n",
    "test_scores_mean"
   ]
  },
  {
   "cell_type": "code",
   "execution_count": 246,
   "metadata": {},
   "outputs": [
    {
     "data": {
      "text/plain": [
       "[<matplotlib.lines.Line2D at 0x1e852dd8>]"
      ]
     },
     "execution_count": 246,
     "metadata": {},
     "output_type": "execute_result"
    },
    {
     "data": {
      "image/png": "[encoded data removed]",
      "text/plain": [
       "<matplotlib.figure.Figure at 0x1be1b0b8>"
      ]
     },
     "metadata": {},
     "output_type": "display_data"
    }
   ],
   "source": [
    "%matplotlib inline\n",
    "import matplotlib.pyplot as plt\n",
    "\n",
    "plt.plot(train_sizes, train_scores_mean, 'o-', color=\"r\",\n",
    "             label=\"Training score\")\n",
    "plt.plot(train_sizes, test_scores_mean, 'o-', color=\"g\",\n",
    "             label=\"Cross-validation score\")"
   ]
  },
  {
   "cell_type": "markdown",
   "metadata": {},
   "source": [
    "Вывод: похоже, если добавить еще данных при обучении, можно улучшить результат"
   ]
  },
  {
   "cell_type": "markdown",
   "metadata": {},
   "source": [
    "2\\. Часто несбалансированные по классам выборки приводят к различным проблемам при обучении моделей. Давайте попробуем по-разному обработать выборку, поиграть с распределением объектов по классам и сделать выводы о том, как соотношение классов влияет на качество модели."
   ]
  },
  {
   "cell_type": "markdown",
   "metadata": {},
   "source": [
    "2.1\\. Задайте веса объектам так, чтобы соотношение классов с учетом весов объектов изменилось. Попробуйте не менее трёх различных вариантов весов. Меняются ли результаты классификации? Как это сказывается на качестве модели? Какой вариант выглядит наиболее оптимальным с точки зрения качества?"
   ]
  },
  {
   "cell_type": "code",
   "execution_count": 248,
   "metadata": {},
   "outputs": [],
   "source": [
    "#в моделе с прошлой недели уже были использованны веса (параметр class_weight='balanced)\n",
    "#таким образом, один из способов учета весов уже применен, осталось применить еще 2\n",
    "# scores = cross_val_score(clf, data_all, target, cv=3, scoring = 'f1')\n",
    "# score_modelWeights = scores.mean()\n",
    "from sklearn.metrics import f1_score\n",
    "clf.fit(data_all, target)\n",
    "test_pred = clf.predict(test_all)\n",
    "score_modelWeights = f1_score(target_test, test_pred) "
   ]
  },
  {
   "cell_type": "code",
   "execution_count": 249,
   "metadata": {},
   "outputs": [],
   "source": [
    "#2. Веса вручную\n",
    "#т.к. в наших данных клиентов склонных к оттоку грубо 10% размножим их данные, чтобы сбалансировать классы\n",
    "dataChunr = data_all[target == 1,:]\n",
    "target = target[:,np.newaxis]\n",
    "targetChurn = target[target == 1]\n",
    "targetChurn = targetChurn[:,np.newaxis]\n",
    "data_all_ForHand = data_all\n",
    "target_ForHand = target\n",
    "for i in range(10):\n",
    "    data_all_ForHand =  np.vstack((data_all_ForHand,dataChunr))\n",
    "    target_ForHand = np.vstack((target_ForHand,targetChurn))\n",
    "target_ForHand = target_ForHand.ravel()\n",
    "target = target.ravel()\n",
    "# scores = cross_val_score(clf, data_all, target, cv=3, scoring = 'f1')\n",
    "# score_HandWeights = scores.mean()\n",
    "clf = SGDClassifier(loss = 'log', max_iter=1000, tol=1e-4, alpha=0.01, random_state=42)\n",
    "clf.fit(data_all_ForHand, target_ForHand)\n",
    "test_pred = clf.predict(test_all)\n",
    "score_HandWeights = f1_score(target_test, test_pred)"
   ]
  },
  {
   "cell_type": "code",
   "execution_count": 250,
   "metadata": {},
   "outputs": [],
   "source": [
    "#3. Комбинированные веса: когда мы выполняли веса \"вручную\" мы ПРИМЕРНО сбалансировали выборку,\n",
    "#поэтому, чтобы сделать веса точнее попробуем оба подхода одновременно\n",
    "clf = SGDClassifier(loss = 'log', class_weight='balanced', max_iter=1000, tol=1e-4, alpha=0.01, random_state=42)\n",
    "clf.fit(data_all_ForHand, target_ForHand)\n",
    "test_pred = clf.predict(test_all)\n",
    "score_HandWeightsAndModelWeights = f1_score(target_test, test_pred)"
   ]
  },
  {
   "cell_type": "code",
   "execution_count": 251,
   "metadata": {},
   "outputs": [
    {
     "data": {
      "text/plain": [
       "(0.20212443095599394, 0.21720969089390138, 0.21386603995299647)"
      ]
     },
     "execution_count": 251,
     "metadata": {},
     "output_type": "execute_result"
    }
   ],
   "source": [
    "#сравним оценки моделей с разными весами\n",
    "score_modelWeights, score_HandWeights, score_HandWeightsAndModelWeights"
   ]
  },
  {
   "cell_type": "markdown",
   "metadata": {},
   "source": [
    "Вывод: Использование различных методов задания весов влияет на результат незначительно, но любой способ дает лучший результат,\n",
    "чем без использования весов"
   ]
  },
  {
   "cell_type": "markdown",
   "metadata": {},
   "source": [
    "2.2\\. Примените к выборке технологию undersampling: для этого нужно убрать из обучения некоторое количество объектов большего класса таким образом, чтобы соотношение классов изменилось. Попробуйте не менее трёх различных вариантов undersampling (варианты могут отличаться как по количество отфильтрованных объектов, так и по принципу выборка объектов для отсеивания из выборки). Меняются ли результаты классификации? Как это сказывается на качестве модели? Какой вариант выглядит наиболее оптимальным с точки зрения качества?"
   ]
  },
  {
   "cell_type": "code",
   "execution_count": 253,
   "metadata": {},
   "outputs": [
    {
     "data": {
      "text/plain": [
       "(0.202907915993538, 0.20754716981132074, 0.090909090909090912)"
      ]
     },
     "execution_count": 253,
     "metadata": {},
     "output_type": "execute_result"
    }
   ],
   "source": [
    "#undersampling до равного отношения числа классов\n",
    "data_Churn = data_all[target == 1,:]\n",
    "target_Churn = target[target == 1]\n",
    "data_notChurn = data_all[target == 0,:][:data_Churn.shape[0],:]\n",
    "target_notChurn = target[target == 0][:data_Churn.shape[0]]\n",
    "data_all_undersampled = np.vstack((data_Churn, data_notChurn))\n",
    "target_undersampled = np.vstack((target_Churn[:,np.newaxis], target_notChurn[:,np.newaxis])).ravel()\n",
    "\n",
    "clf = SGDClassifier(loss = 'log', max_iter=1000, tol=1e-4, alpha=0.01, random_state=42)\n",
    "clf.fit(data_all_undersampled, target_undersampled)\n",
    "test_pred = clf.predict(test_all)\n",
    "score_undersampled1 = f1_score(target_test, test_pred)\n",
    "\n",
    "#undersampling до отношения числа классов 1:2\n",
    "\n",
    "data_notChurn = data_all[target == 0,:][:data_Churn.shape[0]*2,:]\n",
    "target_notChurn = target[target == 0][:data_Churn.shape[0]*2]\n",
    "data_all_undersampled = np.vstack((data_Churn, data_notChurn))\n",
    "target_undersampled = np.vstack((target_Churn[:,np.newaxis], target_notChurn[:,np.newaxis])).ravel()\n",
    "\n",
    "clf = SGDClassifier(loss = 'log', max_iter=1000, tol=1e-4, alpha=0.01, random_state=42)\n",
    "clf.fit(data_all_undersampled, target_undersampled)\n",
    "test_pred = clf.predict(test_all)\n",
    "score_undersampled2 = f1_score(target_test, test_pred)\n",
    "\n",
    "#undersampling до отношения числа классов 1:3\n",
    "\n",
    "data_notChurn = data_all[target == 0,:][:data_Churn.shape[0]*3,:]\n",
    "target_notChurn = target[target == 0][:data_Churn.shape[0]*3]\n",
    "data_all_undersampled = np.vstack((data_Churn, data_notChurn))\n",
    "target_undersampled = np.vstack((target_Churn[:,np.newaxis], target_notChurn[:,np.newaxis])).ravel()\n",
    "\n",
    "clf = SGDClassifier(loss = 'log', max_iter=1000, tol=1e-4, alpha=0.01, random_state=42)\n",
    "clf.fit(data_all_undersampled, target_undersampled)\n",
    "test_pred = clf.predict(test_all)\n",
    "score_undersampled3 = f1_score(target_test, test_pred)\n",
    "\n",
    "#результаты с разным undersampling'ом\n",
    "score_undersampled1, score_undersampled2, score_undersampled3"
   ]
  },
  {
   "cell_type": "markdown",
   "metadata": {},
   "source": [
    "вывод: undersampling нужно обязательно делать таким образом, чтобы классы стали сбалансированны,\n",
    "иначе улучшения результата не наблюдается"
   ]
  },
  {
   "cell_type": "markdown",
   "metadata": {},
   "source": [
    "3\\. Теперь перейдем к работе с признаками. Ранее вы реализовали несколько стратегий для обработки пропущенных значений. Сравните эти стратегии между собой с помощью оценки качества моделей кросс-валидации, построенных на датасетах с использованием различных стратегий. Как обработка пропущенных значений сказывается на качестве модели? Какой вариант выглядит наиболее оптимальным с точки зрения качества?"
   ]
  },
  {
   "cell_type": "code",
   "execution_count": 255,
   "metadata": {},
   "outputs": [
    {
     "data": {
      "text/plain": [
       "(0.20253190381202768, 0.19818173806276984)"
      ]
     },
     "execution_count": 255,
     "metadata": {},
     "output_type": "execute_result"
    }
   ],
   "source": [
    "#В исходной модели пропуски числовых переменных заменялись на медианные значения, попробуем теперь заменять на 0:\n",
    "\n",
    "#cначала загрузим данные и подготовим модель с прошлой недели\n",
    "import pandas as pd\n",
    "import numpy as np\n",
    "data = pd.read_csv('orange_small_churn_data.csv', delimiter =',')\n",
    "data['labels'] = pd.read_csv('orange_small_churn_labels.csv', header=None)\n",
    "#конвертируем колонку labels в int\n",
    "data = data.astype({'labels': 'int32'})\n",
    "#заменим все -1 в целевой переменной на 0\n",
    "data['labels'] = data['labels'].map({1: 1, -1: 0})\n",
    "from sklearn.model_selection import train_test_split\n",
    "data, test = train_test_split(data, test_size=0.15, random_state=42)\n",
    "target = np.array(data.iloc[:,-1])\n",
    "target_test = np.array(test.iloc[:,-1])\n",
    "#подготовим даные:\n",
    "#выделим категориальные признаки (для baseline решения, возможно будет достаточно числовых)\n",
    "numericalVarCount = 190\n",
    "categorialVarCount = 40\n",
    "\n",
    "data_num = data.iloc[:, 0:numericalVarCount]\n",
    "#удалим числовые признаки, содержащие слишком большое количество NaN - значений\n",
    "threshold = 0.7\n",
    "NaN_frac = data_num.isna().sum(axis = 0)/data_num.shape[0]\n",
    "numVarsToStay = list(NaN_frac[NaN_frac < threshold].index)\n",
    "data_num = data_num.loc[:,numVarsToStay]\n",
    "#Перед построением моделей, подготовим данные: заменим NaN на медианные значения,\n",
    "data_num.fillna(0, inplace=True)\n",
    "#выполним стандартизацию числовых признаков\n",
    "from sklearn.preprocessing import StandardScaler\n",
    "scaler = StandardScaler()\n",
    "data_num = scaler.fit_transform(data_num)\n",
    "\n",
    "# #обработаем категориальные признаки методикой one-hot-encoding\n",
    "from sklearn.feature_extraction import DictVectorizer as DV\n",
    "data_cat = data.iloc[:, numericalVarCount:-1]\n",
    "\n",
    "data_cat_oh = pd.get_dummies(data_cat, dummy_na=True, drop_first=True)\n",
    "NaN_frac = data_cat.isna().sum(axis = 0)/data_cat.shape[0]\n",
    "NaN_frac\n",
    "threshold = 0.1\n",
    "NaN_frac = data_cat.isna().sum(axis = 0)/data_num.shape[0]\n",
    "catVarsToStay = list(NaN_frac[NaN_frac < threshold].index)\n",
    "data_cat = data_cat.loc[:,catVarsToStay]\n",
    "data_cat = data_cat.fillna('NA').astype(str)\n",
    "\n",
    "#Подсчитаем количество уникальных значений в категориальных признаках, от этого будет зависеть способ кодировки\n",
    "unique_counts = []\n",
    "for c in data_cat.columns:\n",
    "    unique_counts.append(data_cat[c].dropna().unique().shape[0])\n",
    "cat_unique = pd.DataFrame()\n",
    "cat_unique['unique_counts'] = unique_counts\n",
    "cat_unique.index = data_cat.columns\n",
    "cat_unique.sort_values(by='unique_counts', ascending=False)\n",
    "cat_unique\n",
    "\n",
    "cat_feat_for_OHE = list(cat_unique[cat_unique['unique_counts'] < 50].index)\n",
    "cat_feat_for_OHE\n",
    "encoder = DV(sparse = False)\n",
    "data_cat_oh = encoder.fit_transform(data_cat[cat_feat_for_OHE].T.to_dict().values())\n",
    "\n",
    "data_all = np.hstack((data_num,data_cat_oh))\n",
    "\n",
    "clf = SGDClassifier(loss = 'log', class_weight='balanced', max_iter=1000, tol=1e-4, alpha=0.01, random_state=42)\n",
    "\n",
    "scores = cross_val_score(clf, data_all, target, cv=3, scoring = 'f1')\n",
    "with_zeros_score = scores.mean()\n",
    "basic_score, with_zeros_score"
   ]
  },
  {
   "cell_type": "markdown",
   "metadata": {},
   "source": [
    "Вывод: замена пропущенных числовых значений на 0 дает примерно такое же качество модели, как и замена на медианное значение"
   ]
  },
  {
   "cell_type": "markdown",
   "metadata": {},
   "source": [
    "4\\. Также вы уже реализовали несколько стратегий для обработки категориальных признаков. Сравните эти стратегии между собой с помощью оценки качества моделей по кросс-валидации, построенных на датасетах с использованием различных стратегий. Как обработка категориальных признаков сказывается на качестве модели? Какой вариант выглядит наиболее оптимальным с точки зрения качества?"
   ]
  },
  {
   "cell_type": "code",
   "execution_count": 256,
   "metadata": {},
   "outputs": [
    {
     "data": {
      "text/plain": [
       "(0.20253190381202768, 0.19176117617552371)"
      ]
     },
     "execution_count": 256,
     "metadata": {},
     "output_type": "execute_result"
    }
   ],
   "source": [
    "#в решении с прошлой недели обрабатывались только категориальные признаки с количеством категорий меньше 50 при помощи\n",
    "# one-hot-encoding сравним качество модели, если обрабатывать только признаки с количеством категорий меньше 5\n",
    "data = pd.read_csv('orange_small_churn_data.csv', delimiter =',')\n",
    "data['labels'] = pd.read_csv('orange_small_churn_labels.csv', header=None)\n",
    "#конвертируем колонку labels в int\n",
    "data = data.astype({'labels': 'int32'})\n",
    "#заменим все -1 в целевой переменной на 0\n",
    "data['labels'] = data['labels'].map({1: 1, -1: 0})\n",
    "from sklearn.model_selection import train_test_split\n",
    "data, test = train_test_split(data, test_size=0.15, random_state=42)\n",
    "target = np.array(data.iloc[:,-1])\n",
    "target_test = np.array(test.iloc[:,-1])\n",
    "#подготовим даные:\n",
    "#выделим категориальные признаки (для baseline решения, возможно будет достаточно числовых)\n",
    "numericalVarCount = 190\n",
    "categorialVarCount = 40\n",
    "\n",
    "data_num = data.iloc[:, 0:numericalVarCount]\n",
    "#удалим числовые признаки, содержащие слишком большое количество NaN - значений\n",
    "threshold = 0.7\n",
    "NaN_frac = data_num.isna().sum(axis = 0)/data_num.shape[0]\n",
    "numVarsToStay = list(NaN_frac[NaN_frac < threshold].index)\n",
    "data_num = data_num.loc[:,numVarsToStay]\n",
    "#Перед построением моделей, подготовим данные: заменим NaN на медианные значения,\n",
    "medians = data_num.median()\n",
    "data_num.fillna(medians, inplace=True)\n",
    "#выполним стандартизацию числовых признаков\n",
    "from sklearn.preprocessing import StandardScaler\n",
    "scaler = StandardScaler()\n",
    "data_num = scaler.fit_transform(data_num)\n",
    "\n",
    "# #обработаем категориальные признаки методикой one-hot-encoding\n",
    "from sklearn.feature_extraction import DictVectorizer as DV\n",
    "data_cat = data.iloc[:, numericalVarCount:-1]\n",
    "\n",
    "data_cat_oh = pd.get_dummies(data_cat, dummy_na=True, drop_first=True)\n",
    "NaN_frac = data_cat.isna().sum(axis = 0)/data_cat.shape[0]\n",
    "NaN_frac\n",
    "threshold = 0.1\n",
    "NaN_frac = data_cat.isna().sum(axis = 0)/data_num.shape[0]\n",
    "catVarsToStay = list(NaN_frac[NaN_frac < threshold].index)\n",
    "data_cat = data_cat.loc[:,catVarsToStay]\n",
    "data_cat = data_cat.fillna('NA').astype(str)\n",
    "\n",
    "#Подсчитаем количество уникальных значений в категориальных признаках, от этого будет зависеть способ кодировки\n",
    "unique_counts = []\n",
    "for c in data_cat.columns:\n",
    "    unique_counts.append(data_cat[c].dropna().unique().shape[0])\n",
    "cat_unique = pd.DataFrame()\n",
    "cat_unique['unique_counts'] = unique_counts\n",
    "cat_unique.index = data_cat.columns\n",
    "cat_unique.sort_values(by='unique_counts', ascending=False)\n",
    "cat_unique\n",
    "\n",
    "cat_feat_for_OHE = list(cat_unique[cat_unique['unique_counts'] < 5].index)\n",
    "cat_feat_for_OHE\n",
    "encoder = DV(sparse = False)\n",
    "data_cat_oh = encoder.fit_transform(data_cat[cat_feat_for_OHE].T.to_dict().values())\n",
    "\n",
    "data_all = np.hstack((data_num,data_cat_oh))\n",
    "\n",
    "scores = cross_val_score(clf, data_all, target, cv=3, scoring = 'f1')\n",
    "cat5_score = scores.mean()\n",
    "basic_score, cat5_score"
   ]
  },
  {
   "cell_type": "markdown",
   "metadata": {},
   "source": [
    "вывод: обработка категориальных признаком с количеством категорий до 50 дает немного лучший результат по сравнению с обработкой\n",
    "категорий с 5 различными признаками"
   ]
  },
  {
   "cell_type": "markdown",
   "metadata": {},
   "source": [
    "5\\. Все ли признаки оказались полезными для построения моделей? Проведите процедуру отбора признаков, попробуйте разные варианты отбора (обратите внимание на модуль `sklearn.feature_selection`). Например, можно выбрасывать случайные признаки или строить отбор на основе l1-регуляризации - отфильтровать из обучения признаки, которые получат нулевой вес при построении регрессии с l1-регуляризацией (`sklearn.linear_model.Lasso`). И всегда можно придумать что-то своё=) Попробуйте как минимум 2 различные стратегии, сравните результаты. Помог ли отбор признаков улучшить качество модели? Поясните свой ответ."
   ]
  },
  {
   "cell_type": "code",
   "execution_count": 258,
   "metadata": {},
   "outputs": [],
   "source": [
    "data = pd.read_csv('orange_small_churn_data.csv', delimiter =',')\n",
    "data['labels'] = pd.read_csv('orange_small_churn_labels.csv', header=None)\n",
    "#конвертируем колонку labels в int\n",
    "data = data.astype({'labels': 'int32'})\n",
    "#заменим все -1 в целевой переменной на 0\n",
    "data['labels'] = data['labels'].map({1: 1, -1: 0})\n",
    "from sklearn.model_selection import train_test_split\n",
    "data, test = train_test_split(data, test_size=0.15, random_state=42)\n",
    "target = np.array(data.iloc[:,-1])\n",
    "target_test = np.array(test.iloc[:,-1])\n",
    "#подготовим даные:\n",
    "#выделим категориальные признаки (для baseline решения, возможно будет достаточно числовых)\n",
    "numericalVarCount = 190\n",
    "categorialVarCount = 40\n",
    "\n",
    "data_num = data.iloc[:, 0:numericalVarCount]\n",
    "#удалим числовые признаки, содержащие слишком большое количество NaN - значений\n",
    "threshold = 0.7\n",
    "NaN_frac = data_num.isna().sum(axis = 0)/data_num.shape[0]\n",
    "numVarsToStay = list(NaN_frac[NaN_frac < threshold].index)\n",
    "data_num = data_num.loc[:,numVarsToStay]\n",
    "#Перед построением моделей, подготовим данные: заменим NaN на медианные значения,\n",
    "medians = data_num.median()\n",
    "data_num.fillna(medians, inplace=True)\n",
    "#выполним стандартизацию числовых признаков\n",
    "from sklearn.preprocessing import StandardScaler\n",
    "scaler = StandardScaler()\n",
    "data_num = scaler.fit_transform(data_num)\n",
    "\n",
    "# #обработаем категориальные признаки методикой one-hot-encoding\n",
    "from sklearn.feature_extraction import DictVectorizer as DV\n",
    "data_cat = data.iloc[:, numericalVarCount:-1]\n",
    "\n",
    "data_cat_oh = pd.get_dummies(data_cat, dummy_na=True, drop_first=True)\n",
    "NaN_frac = data_cat.isna().sum(axis = 0)/data_cat.shape[0]\n",
    "NaN_frac\n",
    "threshold = 0.1\n",
    "NaN_frac = data_cat.isna().sum(axis = 0)/data_num.shape[0]\n",
    "catVarsToStay = list(NaN_frac[NaN_frac < threshold].index)\n",
    "data_cat = data_cat.loc[:,catVarsToStay]\n",
    "data_cat = data_cat.fillna('NA').astype(str)\n",
    "\n",
    "#Подсчитаем количество уникальных значений в категориальных признаках, от этого будет зависеть способ кодировки\n",
    "unique_counts = []\n",
    "for c in data_cat.columns:\n",
    "    unique_counts.append(data_cat[c].dropna().unique().shape[0])\n",
    "cat_unique = pd.DataFrame()\n",
    "cat_unique['unique_counts'] = unique_counts\n",
    "cat_unique.index = data_cat.columns\n",
    "cat_unique.sort_values(by='unique_counts', ascending=False)\n",
    "cat_unique\n",
    "\n",
    "cat_feat_for_OHE = list(cat_unique[cat_unique['unique_counts'] < 50].index)\n",
    "cat_feat_for_OHE\n",
    "encoder = DV(sparse = False)\n",
    "data_cat_oh = encoder.fit_transform(data_cat[cat_feat_for_OHE].T.to_dict().values())\n",
    "\n",
    "data_all = np.hstack((data_num,data_cat_oh))\n",
    "data_all.shape\n",
    "\n",
    "#выполняем на ней ту же обработку, что для набора обучения\n",
    "test_num = test.iloc[:, 0:numericalVarCount]\n",
    "#выкинем признаки, которые выкидывали при обучении\n",
    "test_num = test.loc[:,numVarsToStay]\n",
    "#заполним NaN медианными значениями train!!! набора\n",
    "test_num.fillna(medians, inplace=True)\n",
    "#выполним стандартизацию, с теми же параметрами, что при обучении:\n",
    "test_num = scaler.transform(test_num)\n",
    "test_cat = test.iloc[:, numericalVarCount:-1]\n",
    "test_cat = test_cat.loc[:,catVarsToStay]\n",
    "test_cat = test_cat.fillna('NA').astype(str)\n",
    "test_cat_oh = encoder.transform(test_cat[cat_feat_for_OHE].T.to_dict().values())\n",
    "test_all = np.hstack((test_num,test_cat_oh))\n",
    "\n",
    "#балансировка вручную\n",
    "dataChunr = data_all[target == 1,:]\n",
    "target = target[:,np.newaxis]\n",
    "targetChurn = target[target == 1]\n",
    "targetChurn = targetChurn[:,np.newaxis]\n",
    "data_all_ForHand = data_all\n",
    "target_ForHand = target\n",
    "for i in range(10):\n",
    "    data_all_ForHand =  np.vstack((data_all_ForHand,dataChunr))\n",
    "    target_ForHand = np.vstack((target_ForHand,targetChurn))\n",
    "target_ForHand = target_ForHand.ravel()\n",
    "target = target.ravel()"
   ]
  },
  {
   "cell_type": "code",
   "execution_count": 307,
   "metadata": {},
   "outputs": [
    {
     "name": "stderr",
     "output_type": "stream",
     "text": [
      "E:\\WinPython-64bit-3.6.3.0Qt5\\python-3.6.3.amd64\\lib\\site-packages\\sklearn\\linear_model\\coordinate_descent.py:491: ConvergenceWarning: Objective did not converge. You might want to increase the number of iterations. Fitting data with very small alpha may cause precision problems.\n",
      "  ConvergenceWarning)\n"
     ]
    },
    {
     "data": {
      "text/plain": [
       "0.2153846153846154"
      ]
     },
     "execution_count": 307,
     "metadata": {},
     "output_type": "execute_result"
    }
   ],
   "source": [
    "#обучим Lasso\n",
    "clf = Lasso(alpha = 0.000001)\n",
    "clf.fit(data_all_ForHand, target_ForHand)\n",
    "test_pred = clf.predict(test_all)\n",
    "#проверим адекватность обученной модели\n",
    "test_pred = np.round(test_pred)\n",
    "score_lasso = f1_score(target_test, test_pred)\n",
    "score_lasso"
   ]
  },
  {
   "cell_type": "code",
   "execution_count": 308,
   "metadata": {},
   "outputs": [
    {
     "data": {
      "text/plain": [
       "array([ -5.79139946e-03,  -2.75350735e-02,  -3.34922692e-03,\n",
       "        -1.57486899e-01,   8.63319596e-02,  -2.57572909e-04,\n",
       "         1.59359739e-02,   5.51169525e-03,   3.89264516e-03,\n",
       "         2.69105481e-02,  -3.99235678e-03,   1.62955533e-03,\n",
       "         1.55065249e-02,  -1.20501425e-02,  -7.33790306e-02,\n",
       "        -1.35834241e-02,   1.32448359e-02,   8.25602956e-03,\n",
       "         1.24473197e-02,   1.56137341e-02,  -9.63582373e-03,\n",
       "        -4.50317591e-03,  -8.01241840e-03,   3.19055078e-02,\n",
       "         4.05440776e-02,   5.58696084e-03,   2.92892604e-02,\n",
       "        -2.66055762e-03,   6.42722325e-02,   3.11107155e-03,\n",
       "         1.42946859e-02,   2.07935789e-02,   1.13941746e-04,\n",
       "         6.41286052e-03,   1.42774083e-02,   1.66801737e-03,\n",
       "        -6.03579945e-02,   3.70412922e-03,   4.81611676e-03,\n",
       "         1.15578596e-03,  -9.13106393e-04,  -5.37344792e-02,\n",
       "         6.71603693e-02,   0.00000000e+00,  -3.65284123e-02,\n",
       "        -1.10479775e-01,  -4.73472226e-02,  -1.11962797e-02,\n",
       "        -9.62652635e-02,   4.36090570e-01,  -6.52846871e-02,\n",
       "        -1.99460984e-01,   3.88226632e-01,  -2.38531115e-01,\n",
       "         5.04119677e-01,  -2.12811526e-01,  -3.68119982e-01,\n",
       "        -3.84837826e-02,   1.27369544e-02,  -7.96571142e-02,\n",
       "        -1.22597299e-02,  -1.58580402e-01,  -1.21931655e-01,\n",
       "        -0.00000000e+00,   9.16712201e-02,   7.24326549e-02,\n",
       "        -4.39378711e-02,   3.44406834e-01,  -1.31531435e-01,\n",
       "         7.33256682e-02,   1.61871515e-02,   1.41898106e-04,\n",
       "         1.30575519e-01,   1.06362744e-01,  -1.71608216e-01,\n",
       "        -9.80120107e-02,  -1.87389188e-01,  -9.31134487e-03,\n",
       "        -6.96836110e-03,   1.80122027e-01,   1.02837471e-01,\n",
       "        -1.06291544e-01,   6.96380365e-02,  -6.73160873e-02,\n",
       "         1.36416230e-01,   0.00000000e+00,   1.27347945e-01,\n",
       "         0.00000000e+00,  -3.63615079e-01,  -3.31703315e-01,\n",
       "         7.54444763e-01,  -5.02637460e-01,  -3.34147511e-01,\n",
       "        -1.88784650e-02,   1.11641935e+00,   1.49359985e-01,\n",
       "        -3.84578899e-01,  -1.81313922e-01,  -5.91277106e-02,\n",
       "         4.73392834e-02,   4.77693903e-02,   1.73426689e-01,\n",
       "        -2.12751709e-03,   1.22647061e-02,  -3.48356409e-01,\n",
       "         7.85386193e-02,  -3.48887152e-01,  -1.08638092e-01,\n",
       "        -9.34594953e-02,   1.57175826e-01,   1.00454423e-01,\n",
       "         2.14042666e-05,  -4.85354775e-02,  -1.17259200e-02,\n",
       "         4.05897114e-02,  -1.05271441e-02,   1.02841297e-02,\n",
       "         2.35365076e-02,  -5.99392070e-02,  -3.58878132e-01,\n",
       "        -0.00000000e+00,  -4.65317719e-02,   8.44302226e-03,\n",
       "        -4.12711508e-02,   6.28994657e-02,   2.34979395e-01,\n",
       "         2.83220986e-03,   3.30068195e-01,   1.23822564e-01,\n",
       "         4.58736973e-02,  -4.01199319e-02,  -3.88193374e-01,\n",
       "        -1.22194907e-02,   2.34393671e-01,   3.32085557e-01,\n",
       "        -6.67672428e-03,  -4.23976070e-01,  -3.23130550e-01,\n",
       "        -4.65008073e-01,  -8.61727296e-03,  -3.79643568e-03,\n",
       "         1.33649304e-02,  -2.96978834e-01,  -2.17237851e-02,\n",
       "         1.17967180e-01,   3.47254629e-01,   1.98839213e-01,\n",
       "        -4.64348269e-03,   2.61651841e-02,  -0.00000000e+00,\n",
       "         3.54776889e-01,   6.20903225e-02,  -7.81683129e-03,\n",
       "         1.35146351e-01,  -3.15960617e-02,  -6.88753641e-03,\n",
       "        -9.67901059e-02,   2.33751035e-03,   7.24812814e-02,\n",
       "         0.00000000e+00,   1.72789133e-02,   1.74615810e-02,\n",
       "         2.47979417e-02,   5.05151317e-02,  -5.40151259e-02,\n",
       "        -3.14532629e-02,  -7.89987964e-03,   4.61295776e-02,\n",
       "         3.98749124e-02,  -2.73803670e-02,  -1.84549462e-02,\n",
       "         7.41256880e-02,  -3.94905154e-03,   7.25755918e-03,\n",
       "        -1.27648730e-03,  -1.05681264e-02,  -2.76083968e-01,\n",
       "         6.01506018e-02,  -3.86748428e-02,   7.15082769e-02,\n",
       "        -2.57821922e-02,   3.19832589e-02,   1.78317317e-02,\n",
       "        -7.50073251e-02,  -3.09825229e-01,   5.48963260e-03,\n",
       "        -3.35212368e-02,   5.65164359e-02,   3.06642316e-02,\n",
       "         1.00277586e-01,  -4.56287876e-02,  -1.28200558e-01,\n",
       "         6.36855707e-03,  -1.14870431e-01,  -4.13383332e-01,\n",
       "        -3.65919363e-01,   0.00000000e+00,   8.90327574e-02,\n",
       "         2.21537094e-02,   2.62806594e-01,   1.30410554e-01,\n",
       "        -6.12307165e-02,  -3.75092355e-01,   6.93677515e-02,\n",
       "        -1.96650651e-02,   3.60606102e-02,  -2.60155584e-01,\n",
       "         3.81137675e-02,   1.12884711e-01,  -4.52074308e-03,\n",
       "        -2.62722529e-01,  -4.42729649e-01,   9.32184633e-02,\n",
       "         2.19981610e-02,   5.23695899e-01,   5.82751989e-03,\n",
       "        -2.83305551e-02,  -2.58585474e-01,  -6.91720413e-02,\n",
       "         4.02736044e-02])"
      ]
     },
     "execution_count": 308,
     "metadata": {},
     "output_type": "execute_result"
    }
   ],
   "source": [
    "#смотрим коэффициенты, видим, что для некоторых признаков они равны нулю\n",
    "coeffs = clf.coef_\n",
    "coeffs"
   ]
  },
  {
   "cell_type": "code",
   "execution_count": 284,
   "metadata": {},
   "outputs": [
    {
     "data": {
      "text/plain": [
       "(0.20253190381202768, 0.18935903128990939)"
      ]
     },
     "execution_count": 284,
     "metadata": {},
     "output_type": "execute_result"
    }
   ],
   "source": [
    "#удалим их и обучим исходный классификатор\n",
    "data_all_filt = data_all[:,coeffs > 10e-8]\n",
    "clf = SGDClassifier(loss = 'log', class_weight='balanced', max_iter=1000, tol=1e-4, alpha=0.01, random_state=42)\n",
    "scores = cross_val_score(clf, data_all_filt, target, cv=3, scoring = 'f1')\n",
    "filt_score = scores.mean()\n",
    "basic_score, filt_score\n",
    "#видим, что удаление признаков с нулевыми коэффициентами ухудшило модель"
   ]
  },
  {
   "cell_type": "code",
   "execution_count": 285,
   "metadata": {},
   "outputs": [
    {
     "data": {
      "text/plain": [
       "(0.20253190381202768, 0.18935903128990939, 0.19517231408808025)"
      ]
     },
     "execution_count": 285,
     "metadata": {},
     "output_type": "execute_result"
    }
   ],
   "source": [
    "#при построении исходной модели мы удаляли числовые признаки содержащие большое количество NaN-значений, попробуем удалить только\n",
    "#те числовые признаки, в которых ВСЕ значения NaN\n",
    "\n",
    "data = pd.read_csv('orange_small_churn_data.csv', delimiter =',')\n",
    "data['labels'] = pd.read_csv('orange_small_churn_labels.csv', header=None)\n",
    "#конвертируем колонку labels в int\n",
    "data = data.astype({'labels': 'int32'})\n",
    "#заменим все -1 в целевой переменной на 0\n",
    "data['labels'] = data['labels'].map({1: 1, -1: 0})\n",
    "from sklearn.model_selection import train_test_split\n",
    "data, test = train_test_split(data, test_size=0.15, random_state=42)\n",
    "target = np.array(data.iloc[:,-1])\n",
    "target_test = np.array(test.iloc[:,-1])\n",
    "#подготовим даные:\n",
    "#выделим категориальные признаки (для baseline решения, возможно будет достаточно числовых)\n",
    "numericalVarCount = 190\n",
    "categorialVarCount = 40\n",
    "\n",
    "data_num = data.iloc[:, 0:numericalVarCount]\n",
    "#удалим числовые признаки, в которых ВСЕ значения NaN\n",
    "threshold = 0.9999\n",
    "NaN_frac = data_num.isna().sum(axis = 0)/data_num.shape[0]\n",
    "numVarsToStay = list(NaN_frac[NaN_frac < threshold].index)\n",
    "data_num = data_num.loc[:,numVarsToStay]\n",
    "#Перед построением моделей, подготовим данные: заменим NaN на медианные значения,\n",
    "medians = data_num.median()\n",
    "data_num.fillna(medians, inplace=True)\n",
    "#выполним стандартизацию числовых признаков\n",
    "from sklearn.preprocessing import StandardScaler\n",
    "scaler = StandardScaler()\n",
    "data_num = scaler.fit_transform(data_num)\n",
    "\n",
    "# #обработаем категориальные признаки методикой one-hot-encoding\n",
    "from sklearn.feature_extraction import DictVectorizer as DV\n",
    "data_cat = data.iloc[:, numericalVarCount:-1]\n",
    "\n",
    "data_cat_oh = pd.get_dummies(data_cat, dummy_na=True, drop_first=True)\n",
    "NaN_frac = data_cat.isna().sum(axis = 0)/data_cat.shape[0]\n",
    "NaN_frac\n",
    "threshold = 0.1\n",
    "NaN_frac = data_cat.isna().sum(axis = 0)/data_num.shape[0]\n",
    "catVarsToStay = list(NaN_frac[NaN_frac < threshold].index)\n",
    "data_cat = data_cat.loc[:,catVarsToStay]\n",
    "data_cat = data_cat.fillna('NA').astype(str)\n",
    "\n",
    "#Подсчитаем количество уникальных значений в категориальных признаках, от этого будет зависеть способ кодировки\n",
    "unique_counts = []\n",
    "for c in data_cat.columns:\n",
    "    unique_counts.append(data_cat[c].dropna().unique().shape[0])\n",
    "cat_unique = pd.DataFrame()\n",
    "cat_unique['unique_counts'] = unique_counts\n",
    "cat_unique.index = data_cat.columns\n",
    "cat_unique.sort_values(by='unique_counts', ascending=False)\n",
    "cat_unique\n",
    "\n",
    "cat_feat_for_OHE = list(cat_unique[cat_unique['unique_counts'] < 50].index)\n",
    "cat_feat_for_OHE\n",
    "encoder = DV(sparse = False)\n",
    "data_cat_oh = encoder.fit_transform(data_cat[cat_feat_for_OHE].T.to_dict().values())\n",
    "\n",
    "data_all = np.hstack((data_num,data_cat_oh))\n",
    "\n",
    "scores = cross_val_score(clf, data_all, target, cv=3, scoring = 'f1')\n",
    "NaN_filtTestScore = scores.mean()\n",
    "\n",
    "basic_score, filt_score, NaN_filtTestScore\n",
    "#видим, что редакцией признаков модель улучшить не получилось"
   ]
  },
  {
   "cell_type": "markdown",
   "metadata": {},
   "source": [
    "6\\. Подберите оптимальные параметры модели. Обратите внимание, что в зависимости от того, как вы обработали исходные данные, сделали ли балансировку классов, сколько объектов оставили в обучающей выборке и др. оптимальные значения параметров могут меняться. Возьмите наилучшее из ваших решений на текущий момент и проведите процедуру подбора параметров модели (обратите внимание на `sklearn.model_selection.GridSearchCV`) Как подбор параметров повлиял на качество модели?"
   ]
  },
  {
   "cell_type": "code",
   "execution_count": 286,
   "metadata": {},
   "outputs": [
    {
     "data": {
      "text/plain": [
       "(34000, 220)"
      ]
     },
     "execution_count": 286,
     "metadata": {},
     "output_type": "execute_result"
    }
   ],
   "source": [
    "#загругим и обработаем дынные наилучшим способом\n",
    "data = pd.read_csv('orange_small_churn_data.csv', delimiter =',')\n",
    "data['labels'] = pd.read_csv('orange_small_churn_labels.csv', header=None)\n",
    "#конвертируем колонку labels в int\n",
    "data = data.astype({'labels': 'int32'})\n",
    "#заменим все -1 в целевой переменной на 0\n",
    "data['labels'] = data['labels'].map({1: 1, -1: 0})\n",
    "from sklearn.model_selection import train_test_split\n",
    "data, test = train_test_split(data, test_size=0.15, random_state=42)\n",
    "target = np.array(data.iloc[:,-1])\n",
    "target_test = np.array(test.iloc[:,-1])\n",
    "#подготовим даные:\n",
    "#выделим категориальные признаки (для baseline решения, возможно будет достаточно числовых)\n",
    "numericalVarCount = 190\n",
    "categorialVarCount = 40\n",
    "\n",
    "data_num = data.iloc[:, 0:numericalVarCount]\n",
    "#удалим числовые признаки, содержащие слишком большое количество NaN - значений\n",
    "threshold = 0.7\n",
    "NaN_frac = data_num.isna().sum(axis = 0)/data_num.shape[0]\n",
    "numVarsToStay = list(NaN_frac[NaN_frac < threshold].index)\n",
    "data_num = data_num.loc[:,numVarsToStay]\n",
    "#Перед построением моделей, подготовим данные: заменим NaN на медианные значения,\n",
    "medians = data_num.median()\n",
    "data_num.fillna(medians, inplace=True)\n",
    "#выполним стандартизацию числовых признаков\n",
    "from sklearn.preprocessing import StandardScaler\n",
    "scaler = StandardScaler()\n",
    "data_num = scaler.fit_transform(data_num)\n",
    "\n",
    "# #обработаем категориальные признаки методикой one-hot-encoding\n",
    "from sklearn.feature_extraction import DictVectorizer as DV\n",
    "data_cat = data.iloc[:, numericalVarCount:-1]\n",
    "\n",
    "data_cat_oh = pd.get_dummies(data_cat, dummy_na=True, drop_first=True)\n",
    "NaN_frac = data_cat.isna().sum(axis = 0)/data_cat.shape[0]\n",
    "NaN_frac\n",
    "threshold = 0.1\n",
    "NaN_frac = data_cat.isna().sum(axis = 0)/data_num.shape[0]\n",
    "catVarsToStay = list(NaN_frac[NaN_frac < threshold].index)\n",
    "data_cat = data_cat.loc[:,catVarsToStay]\n",
    "data_cat = data_cat.fillna('NA').astype(str)\n",
    "\n",
    "#Подсчитаем количество уникальных значений в категориальных признаках, от этого будет зависеть способ кодировки\n",
    "unique_counts = []\n",
    "for c in data_cat.columns:\n",
    "    unique_counts.append(data_cat[c].dropna().unique().shape[0])\n",
    "cat_unique = pd.DataFrame()\n",
    "cat_unique['unique_counts'] = unique_counts\n",
    "cat_unique.index = data_cat.columns\n",
    "cat_unique.sort_values(by='unique_counts', ascending=False)\n",
    "cat_unique\n",
    "\n",
    "cat_feat_for_OHE = list(cat_unique[cat_unique['unique_counts'] < 50].index)\n",
    "cat_feat_for_OHE\n",
    "encoder = DV(sparse = False)\n",
    "data_cat_oh = encoder.fit_transform(data_cat[cat_feat_for_OHE].T.to_dict().values())\n",
    "\n",
    "data_all = np.hstack((data_num,data_cat_oh))\n",
    "data_all.shape"
   ]
  },
  {
   "cell_type": "code",
   "execution_count": 294,
   "metadata": {},
   "outputs": [
    {
     "data": {
      "text/plain": [
       "GridSearchCV(cv=3, error_score='raise',\n",
       "       estimator=SGDClassifier(alpha=0.0001, average=False, class_weight='balanced',\n",
       "       epsilon=0.1, eta0=0.0, fit_intercept=True, l1_ratio=0.15,\n",
       "       learning_rate='optimal', loss='log', max_iter=1000, n_iter=None,\n",
       "       n_jobs=1, penalty='l2', power_t=0.5, random_state=42, shuffle=True,\n",
       "       tol=None, verbose=0, warm_start=False),\n",
       "       fit_params=None, iid=True, n_jobs=1,\n",
       "       param_grid={'tol': (0.1, 0.0001, 1e-08), 'alpha': [0.5, 0.01, 0.001]},\n",
       "       pre_dispatch='2*n_jobs', refit=True, return_train_score='warn',\n",
       "       scoring='f1', verbose=0)"
      ]
     },
     "execution_count": 294,
     "metadata": {},
     "output_type": "execute_result"
    }
   ],
   "source": [
    "#выполним подбор параметров\n",
    "from sklearn.model_selection import GridSearchCV\n",
    "#max_iter=1000, alpha=0.01 - использовались ранее\n",
    "parameters = {'tol':(0.1, 0.0001, 0.00000001), 'alpha':[0.5, 0.01, 0.001]}\n",
    "clf = SGDClassifier(loss = 'log',max_iter = 1000, class_weight='balanced', random_state=42)\n",
    "grSch = GridSearchCV(clf, parameters, cv=3,scoring = 'f1')\n",
    "grSch.fit(data_all, target)"
   ]
  },
  {
   "cell_type": "code",
   "execution_count": 297,
   "metadata": {},
   "outputs": [
    {
     "name": "stderr",
     "output_type": "stream",
     "text": [
      "E:\\WinPython-64bit-3.6.3.0Qt5\\python-3.6.3.amd64\\lib\\site-packages\\sklearn\\utils\\deprecation.py:122: FutureWarning: You are accessing a training score ('mean_train_score'), which will not be available by default any more in 0.21. If you need training scores, please set return_train_score=True\n",
      "  warnings.warn(*warn_args, **warn_kwargs)\n",
      "E:\\WinPython-64bit-3.6.3.0Qt5\\python-3.6.3.amd64\\lib\\site-packages\\sklearn\\utils\\deprecation.py:122: FutureWarning: You are accessing a training score ('split0_train_score'), which will not be available by default any more in 0.21. If you need training scores, please set return_train_score=True\n",
      "  warnings.warn(*warn_args, **warn_kwargs)\n",
      "E:\\WinPython-64bit-3.6.3.0Qt5\\python-3.6.3.amd64\\lib\\site-packages\\sklearn\\utils\\deprecation.py:122: FutureWarning: You are accessing a training score ('split1_train_score'), which will not be available by default any more in 0.21. If you need training scores, please set return_train_score=True\n",
      "  warnings.warn(*warn_args, **warn_kwargs)\n",
      "E:\\WinPython-64bit-3.6.3.0Qt5\\python-3.6.3.amd64\\lib\\site-packages\\sklearn\\utils\\deprecation.py:122: FutureWarning: You are accessing a training score ('split2_train_score'), which will not be available by default any more in 0.21. If you need training scores, please set return_train_score=True\n",
      "  warnings.warn(*warn_args, **warn_kwargs)\n",
      "E:\\WinPython-64bit-3.6.3.0Qt5\\python-3.6.3.amd64\\lib\\site-packages\\sklearn\\utils\\deprecation.py:122: FutureWarning: You are accessing a training score ('std_train_score'), which will not be available by default any more in 0.21. If you need training scores, please set return_train_score=True\n",
      "  warnings.warn(*warn_args, **warn_kwargs)\n"
     ]
    },
    {
     "data": {
      "text/plain": [
       "{'mean_fit_time': array([ 0.07519515,  0.08626302,  0.08040365,  0.0859375 ,  0.12792977,\n",
       "         0.12695312,  0.10644531,  0.16210953,  0.1660157 ]),\n",
       " 'mean_score_time': array([ 0.0065105 ,  0.00651042,  0.0065105 ,  0.00585938,  0.00585938,\n",
       "         0.01106763,  0.0058593 ,  0.00651034,  0.0078125 ]),\n",
       " 'mean_test_score': array([ 0.189421  ,  0.19262216,  0.19262216,  0.19458108,  0.20253136,\n",
       "         0.20253136,  0.19371563,  0.19267047,  0.19267047]),\n",
       " 'mean_train_score': array([ 0.19268793,  0.19506552,  0.19506552,  0.2001414 ,  0.21130028,\n",
       "         0.21130028,  0.19628207,  0.20084792,  0.20084792]),\n",
       " 'param_alpha': masked_array(data = [0.5 0.5 0.5 0.01 0.01 0.01 0.001 0.001 0.001],\n",
       "              mask = [False False False False False False False False False],\n",
       "        fill_value = ?),\n",
       " 'param_tol': masked_array(data = [0.1 0.0001 1e-08 0.1 0.0001 1e-08 0.1 0.0001 1e-08],\n",
       "              mask = [False False False False False False False False False],\n",
       "        fill_value = ?),\n",
       " 'params': [{'alpha': 0.5, 'tol': 0.1},\n",
       "  {'alpha': 0.5, 'tol': 0.0001},\n",
       "  {'alpha': 0.5, 'tol': 1e-08},\n",
       "  {'alpha': 0.01, 'tol': 0.1},\n",
       "  {'alpha': 0.01, 'tol': 0.0001},\n",
       "  {'alpha': 0.01, 'tol': 1e-08},\n",
       "  {'alpha': 0.001, 'tol': 0.1},\n",
       "  {'alpha': 0.001, 'tol': 0.0001},\n",
       "  {'alpha': 0.001, 'tol': 1e-08}],\n",
       " 'rank_test_score': array([9, 7, 7, 3, 1, 1, 4, 5, 5]),\n",
       " 'split0_test_score': array([ 0.18239661,  0.18239661,  0.18239661,  0.18115723,  0.19951446,\n",
       "         0.19951446,  0.18688772,  0.18375242,  0.18375242]),\n",
       " 'split0_train_score': array([ 0.19912127,  0.19912127,  0.19912127,  0.19050499,  0.21652422,\n",
       "         0.21652422,  0.1940544 ,  0.20775194,  0.20775194]),\n",
       " 'split1_test_score': array([ 0.1916955 ,  0.19397502,  0.19397502,  0.19086974,  0.19636194,\n",
       "         0.19636194,  0.19043382,  0.19043382,  0.19043382]),\n",
       " 'split1_train_score': array([ 0.19456193,  0.19680803,  0.19680803,  0.20495253,  0.21240995,\n",
       "         0.21240995,  0.19957442,  0.19957442,  0.19957442]),\n",
       " 'split2_test_score': array([ 0.19417173,  0.20149643,  0.20149643,  0.21171932,  0.21171932,\n",
       "         0.21171932,  0.20382713,  0.20382713,  0.20382713]),\n",
       " 'split2_train_score': array([ 0.1843806 ,  0.18926727,  0.18926727,  0.20496669,  0.20496669,\n",
       "         0.20496669,  0.19521739,  0.19521739,  0.19521739]),\n",
       " 'std_fit_time': array([  1.12391596e-07,   7.40872831e-03,   9.34420579e-03,\n",
       "          2.10961611e-03,   3.66784600e-02,   3.46919366e-02,\n",
       "          7.60624744e-03,   6.77144807e-02,   6.84570738e-02]),\n",
       " 'std_score_time': array([  4.60412183e-04,   4.60355977e-04,   9.20655764e-04,\n",
       "          7.97359942e-04,   1.94667955e-07,   6.68710712e-03,\n",
       "          1.12391596e-07,   4.60299792e-04,   1.59471988e-03]),\n",
       " 'std_test_score': array([ 0.00506904,  0.00785582,  0.00785582,  0.01274977,  0.00662256,\n",
       "         0.00662256,  0.00729439,  0.00834657,  0.00834657]),\n",
       " 'std_train_score': array([ 0.00616202,  0.00420734,  0.00420734,  0.00681398,  0.00478314,\n",
       "         0.00478314,  0.00237597,  0.00519584,  0.00519584])}"
      ]
     },
     "execution_count": 297,
     "metadata": {},
     "output_type": "execute_result"
    }
   ],
   "source": [
    "#смотрим результат, видим, что наилучшие параметры уже были использованны ранее\n",
    "grSch.cv_results_"
   ]
  },
  {
   "cell_type": "markdown",
   "metadata": {},
   "source": [
    "7\\. Предложите методику оценки того, какие признаки внесли наибольший вклад в модель (например, это могут быть веса в случае регрессии, а также большое количество моделей реализуют метод `feature_importances_` - оценка важности признаков). На основе предложенной методики проанализируйте, какие признаки внесли больший вклад в модель, а какие меньший?"
   ]
  },
  {
   "cell_type": "code",
   "execution_count": 312,
   "metadata": {},
   "outputs": [
    {
     "data": {
      "text/plain": [
       "(array([ 43,  63,  85,  87, 120, 149, 159, 196], dtype=int64),)"
      ]
     },
     "execution_count": 312,
     "metadata": {},
     "output_type": "execute_result"
    }
   ],
   "source": [
    "#Предлагаю судить о вкладе признаков по весам модели Lasso\n",
    "#смотрим индексы переменных с малым весом\n",
    "np.where(abs(coeffs) < 0.0000001)"
   ]
  },
  {
   "cell_type": "code",
   "execution_count": 321,
   "metadata": {},
   "outputs": [
    {
     "data": {
      "text/plain": [
       "(array([ 54,  90,  91,  94, 214], dtype=int64),)"
      ]
     },
     "execution_count": 321,
     "metadata": {},
     "output_type": "execute_result"
    }
   ],
   "source": [
    "#интересно, что все переменные с малым весам относятся к категориальным, преобразованным при помощи one-hot-encoding\n",
    "#каким исходным  признакам относятся эти признаки определись сложно\n",
    "#смотрим индексы переменных с большим весом\n",
    "np.where(abs(coeffs) > 0.5)\n",
    "#видим, что они относятся к числовым переменным"
   ]
  },
  {
   "cell_type": "code",
   "execution_count": 333,
   "metadata": {},
   "outputs": [
    {
     "data": {
      "text/plain": [
       "('Var6', 'Var13', 'Var24')"
      ]
     },
     "execution_count": 333,
     "metadata": {},
     "output_type": "execute_result"
    }
   ],
   "source": [
    "#тогда зададимся вопросом, какие числовые признаки вносят наибольший и наименьший вклад в модель\n",
    "#таким же способом можно видеть, что наименьший вклад вносят признаки с индексами 0, 2, 5\n",
    "#наибольший - 3, 4, 14, 28, 36, 41, посмотрим, какие признаки отвечают этим индексам\n",
    "numVarsToStay[0],numVarsToStay[2],numVarsToStay[5]\n",
    "#наименьший вклад вносят "
   ]
  },
  {
   "cell_type": "code",
   "execution_count": 337,
   "metadata": {},
   "outputs": [
    {
     "data": {
      "text/plain": [
       "('Var21', 'Var22', 'Var73', 'Var126', 'Var153', 'Var189')"
      ]
     },
     "execution_count": 337,
     "metadata": {},
     "output_type": "execute_result"
    }
   ],
   "source": [
    "numVarsToStay[3],numVarsToStay[4],numVarsToStay[14], numVarsToStay[28], numVarsToStay[36], numVarsToStay[41]"
   ]
  },
  {
   "cell_type": "markdown",
   "metadata": {},
   "source": [
    "8\\. Напоследок давайте посмотрим на объекты. На каких объектах достигается наибольшая ошибка классификации? Есть ли межу этими объектами что-то общее? Видны ли какие-либо закономерности? Предположите, почему наибольшая ошибка достигается именно на этих объектах. В данном случае \"наибольшую\" ошибку можно понимать как отнесение объекта с чужому классу с большой долей уверенности (с высокой вероятностью)."
   ]
  },
  {
   "cell_type": "code",
   "execution_count": 413,
   "metadata": {},
   "outputs": [
    {
     "name": "stderr",
     "output_type": "stream",
     "text": [
      "E:\\WinPython-64bit-3.6.3.0Qt5\\python-3.6.3.amd64\\lib\\site-packages\\pandas\\core\\computation\\expressions.py:179: UserWarning: evaluating in Python space because the '*' operator is not supported by numexpr for the bool dtype, use '&' instead\n",
      "  .format(op=op_str, alt_op=unsupported[op_str]))\n"
     ]
    },
    {
     "data": {
      "text/html": [
       "<div>\n",
       "<style scoped>\n",
       "    .dataframe tbody tr th:only-of-type {\n",
       "        vertical-align: middle;\n",
       "    }\n",
       "\n",
       "    .dataframe tbody tr th {\n",
       "        vertical-align: top;\n",
       "    }\n",
       "\n",
       "    .dataframe thead th {\n",
       "        text-align: right;\n",
       "    }\n",
       "</style>\n",
       "<table border=\"1\" class=\"dataframe\">\n",
       "  <thead>\n",
       "    <tr style=\"text-align: right;\">\n",
       "      <th></th>\n",
       "      <th>Var1</th>\n",
       "      <th>Var2</th>\n",
       "      <th>Var3</th>\n",
       "      <th>Var4</th>\n",
       "      <th>Var5</th>\n",
       "      <th>Var6</th>\n",
       "      <th>Var7</th>\n",
       "      <th>Var8</th>\n",
       "      <th>Var9</th>\n",
       "      <th>Var10</th>\n",
       "      <th>...</th>\n",
       "      <th>Var184</th>\n",
       "      <th>Var185</th>\n",
       "      <th>Var186</th>\n",
       "      <th>Var187</th>\n",
       "      <th>Var188</th>\n",
       "      <th>Var189</th>\n",
       "      <th>Var190</th>\n",
       "      <th>Var209</th>\n",
       "      <th>Var230</th>\n",
       "      <th>labels</th>\n",
       "    </tr>\n",
       "  </thead>\n",
       "  <tbody>\n",
       "    <tr>\n",
       "      <th>count</th>\n",
       "      <td>0.0</td>\n",
       "      <td>0.0</td>\n",
       "      <td>0.0</td>\n",
       "      <td>0.0</td>\n",
       "      <td>0.0</td>\n",
       "      <td>15.000000</td>\n",
       "      <td>15.000000</td>\n",
       "      <td>0.0</td>\n",
       "      <td>0.0</td>\n",
       "      <td>0.0</td>\n",
       "      <td>...</td>\n",
       "      <td>0.0</td>\n",
       "      <td>0.0</td>\n",
       "      <td>0.0</td>\n",
       "      <td>0.0</td>\n",
       "      <td>0.0</td>\n",
       "      <td>13.000000</td>\n",
       "      <td>0.0</td>\n",
       "      <td>0.0</td>\n",
       "      <td>0.0</td>\n",
       "      <td>15.000000</td>\n",
       "    </tr>\n",
       "    <tr>\n",
       "      <th>mean</th>\n",
       "      <td>NaN</td>\n",
       "      <td>NaN</td>\n",
       "      <td>NaN</td>\n",
       "      <td>NaN</td>\n",
       "      <td>NaN</td>\n",
       "      <td>593.600000</td>\n",
       "      <td>2.800000</td>\n",
       "      <td>NaN</td>\n",
       "      <td>NaN</td>\n",
       "      <td>NaN</td>\n",
       "      <td>...</td>\n",
       "      <td>NaN</td>\n",
       "      <td>NaN</td>\n",
       "      <td>NaN</td>\n",
       "      <td>NaN</td>\n",
       "      <td>NaN</td>\n",
       "      <td>174.000000</td>\n",
       "      <td>NaN</td>\n",
       "      <td>NaN</td>\n",
       "      <td>NaN</td>\n",
       "      <td>0.066667</td>\n",
       "    </tr>\n",
       "    <tr>\n",
       "      <th>std</th>\n",
       "      <td>NaN</td>\n",
       "      <td>NaN</td>\n",
       "      <td>NaN</td>\n",
       "      <td>NaN</td>\n",
       "      <td>NaN</td>\n",
       "      <td>1248.158804</td>\n",
       "      <td>3.549648</td>\n",
       "      <td>NaN</td>\n",
       "      <td>NaN</td>\n",
       "      <td>NaN</td>\n",
       "      <td>...</td>\n",
       "      <td>NaN</td>\n",
       "      <td>NaN</td>\n",
       "      <td>NaN</td>\n",
       "      <td>NaN</td>\n",
       "      <td>NaN</td>\n",
       "      <td>64.807407</td>\n",
       "      <td>NaN</td>\n",
       "      <td>NaN</td>\n",
       "      <td>NaN</td>\n",
       "      <td>0.258199</td>\n",
       "    </tr>\n",
       "    <tr>\n",
       "      <th>min</th>\n",
       "      <td>NaN</td>\n",
       "      <td>NaN</td>\n",
       "      <td>NaN</td>\n",
       "      <td>NaN</td>\n",
       "      <td>NaN</td>\n",
       "      <td>0.000000</td>\n",
       "      <td>0.000000</td>\n",
       "      <td>NaN</td>\n",
       "      <td>NaN</td>\n",
       "      <td>NaN</td>\n",
       "      <td>...</td>\n",
       "      <td>NaN</td>\n",
       "      <td>NaN</td>\n",
       "      <td>NaN</td>\n",
       "      <td>NaN</td>\n",
       "      <td>NaN</td>\n",
       "      <td>126.000000</td>\n",
       "      <td>NaN</td>\n",
       "      <td>NaN</td>\n",
       "      <td>NaN</td>\n",
       "      <td>0.000000</td>\n",
       "    </tr>\n",
       "    <tr>\n",
       "      <th>25%</th>\n",
       "      <td>NaN</td>\n",
       "      <td>NaN</td>\n",
       "      <td>NaN</td>\n",
       "      <td>NaN</td>\n",
       "      <td>NaN</td>\n",
       "      <td>73.500000</td>\n",
       "      <td>0.000000</td>\n",
       "      <td>NaN</td>\n",
       "      <td>NaN</td>\n",
       "      <td>NaN</td>\n",
       "      <td>...</td>\n",
       "      <td>NaN</td>\n",
       "      <td>NaN</td>\n",
       "      <td>NaN</td>\n",
       "      <td>NaN</td>\n",
       "      <td>NaN</td>\n",
       "      <td>144.000000</td>\n",
       "      <td>NaN</td>\n",
       "      <td>NaN</td>\n",
       "      <td>NaN</td>\n",
       "      <td>0.000000</td>\n",
       "    </tr>\n",
       "    <tr>\n",
       "      <th>50%</th>\n",
       "      <td>NaN</td>\n",
       "      <td>NaN</td>\n",
       "      <td>NaN</td>\n",
       "      <td>NaN</td>\n",
       "      <td>NaN</td>\n",
       "      <td>322.000000</td>\n",
       "      <td>0.000000</td>\n",
       "      <td>NaN</td>\n",
       "      <td>NaN</td>\n",
       "      <td>NaN</td>\n",
       "      <td>...</td>\n",
       "      <td>NaN</td>\n",
       "      <td>NaN</td>\n",
       "      <td>NaN</td>\n",
       "      <td>NaN</td>\n",
       "      <td>NaN</td>\n",
       "      <td>150.000000</td>\n",
       "      <td>NaN</td>\n",
       "      <td>NaN</td>\n",
       "      <td>NaN</td>\n",
       "      <td>0.000000</td>\n",
       "    </tr>\n",
       "    <tr>\n",
       "      <th>75%</th>\n",
       "      <td>NaN</td>\n",
       "      <td>NaN</td>\n",
       "      <td>NaN</td>\n",
       "      <td>NaN</td>\n",
       "      <td>NaN</td>\n",
       "      <td>472.500000</td>\n",
       "      <td>7.000000</td>\n",
       "      <td>NaN</td>\n",
       "      <td>NaN</td>\n",
       "      <td>NaN</td>\n",
       "      <td>...</td>\n",
       "      <td>NaN</td>\n",
       "      <td>NaN</td>\n",
       "      <td>NaN</td>\n",
       "      <td>NaN</td>\n",
       "      <td>NaN</td>\n",
       "      <td>192.000000</td>\n",
       "      <td>NaN</td>\n",
       "      <td>NaN</td>\n",
       "      <td>NaN</td>\n",
       "      <td>0.000000</td>\n",
       "    </tr>\n",
       "    <tr>\n",
       "      <th>max</th>\n",
       "      <td>NaN</td>\n",
       "      <td>NaN</td>\n",
       "      <td>NaN</td>\n",
       "      <td>NaN</td>\n",
       "      <td>NaN</td>\n",
       "      <td>5033.000000</td>\n",
       "      <td>7.000000</td>\n",
       "      <td>NaN</td>\n",
       "      <td>NaN</td>\n",
       "      <td>NaN</td>\n",
       "      <td>...</td>\n",
       "      <td>NaN</td>\n",
       "      <td>NaN</td>\n",
       "      <td>NaN</td>\n",
       "      <td>NaN</td>\n",
       "      <td>NaN</td>\n",
       "      <td>372.000000</td>\n",
       "      <td>NaN</td>\n",
       "      <td>NaN</td>\n",
       "      <td>NaN</td>\n",
       "      <td>1.000000</td>\n",
       "    </tr>\n",
       "  </tbody>\n",
       "</table>\n",
       "<p>8 rows × 193 columns</p>\n",
       "</div>"
      ],
      "text/plain": [
       "       Var1  Var2  Var3  Var4  Var5         Var6       Var7  Var8  Var9  \\\n",
       "count   0.0   0.0   0.0   0.0   0.0    15.000000  15.000000   0.0   0.0   \n",
       "mean    NaN   NaN   NaN   NaN   NaN   593.600000   2.800000   NaN   NaN   \n",
       "std     NaN   NaN   NaN   NaN   NaN  1248.158804   3.549648   NaN   NaN   \n",
       "min     NaN   NaN   NaN   NaN   NaN     0.000000   0.000000   NaN   NaN   \n",
       "25%     NaN   NaN   NaN   NaN   NaN    73.500000   0.000000   NaN   NaN   \n",
       "50%     NaN   NaN   NaN   NaN   NaN   322.000000   0.000000   NaN   NaN   \n",
       "75%     NaN   NaN   NaN   NaN   NaN   472.500000   7.000000   NaN   NaN   \n",
       "max     NaN   NaN   NaN   NaN   NaN  5033.000000   7.000000   NaN   NaN   \n",
       "\n",
       "       Var10    ...      Var184  Var185  Var186  Var187  Var188      Var189  \\\n",
       "count    0.0    ...         0.0     0.0     0.0     0.0     0.0   13.000000   \n",
       "mean     NaN    ...         NaN     NaN     NaN     NaN     NaN  174.000000   \n",
       "std      NaN    ...         NaN     NaN     NaN     NaN     NaN   64.807407   \n",
       "min      NaN    ...         NaN     NaN     NaN     NaN     NaN  126.000000   \n",
       "25%      NaN    ...         NaN     NaN     NaN     NaN     NaN  144.000000   \n",
       "50%      NaN    ...         NaN     NaN     NaN     NaN     NaN  150.000000   \n",
       "75%      NaN    ...         NaN     NaN     NaN     NaN     NaN  192.000000   \n",
       "max      NaN    ...         NaN     NaN     NaN     NaN     NaN  372.000000   \n",
       "\n",
       "       Var190  Var209  Var230     labels  \n",
       "count     0.0     0.0     0.0  15.000000  \n",
       "mean      NaN     NaN     NaN   0.066667  \n",
       "std       NaN     NaN     NaN   0.258199  \n",
       "min       NaN     NaN     NaN   0.000000  \n",
       "25%       NaN     NaN     NaN   0.000000  \n",
       "50%       NaN     NaN     NaN   0.000000  \n",
       "75%       NaN     NaN     NaN   0.000000  \n",
       "max       NaN     NaN     NaN   1.000000  \n",
       "\n",
       "[8 rows x 193 columns]"
      ]
     },
     "execution_count": 413,
     "metadata": {},
     "output_type": "execute_result"
    }
   ],
   "source": [
    "#перед запуском в этом пункте сначала запустить пункт 9\n",
    "#выполним этот пункт на тестовой выборке\n",
    "\n",
    "test_pred_proba = clf.predict_proba(test_all)[:,1]\n",
    "test_pred = clf.predict(test_all)\n",
    "#найдем объекты, на которых модель ошибается\n",
    "mistakeIndex = (target_test != test_pred)\n",
    "errorMeasure = np.abs(test_pred_proba - 0.5)\n",
    "errorAr = pd.DataFrame(np.vstack((mistakeIndex, errorMeasure)).T)\n",
    "#найдем объекты на которых при ошибке, большая вероятность\n",
    "erInd = errorAr[(errorAr.iloc[:,1] > 0.35) *(errorAr.iloc[:,0] == True)].index\n",
    "#отобразим статистику по этим объектам\n",
    "test.iloc[erInd,:].head(erInd.shape[0]).describe()"
   ]
  },
  {
   "cell_type": "code",
   "execution_count": 414,
   "metadata": {},
   "outputs": [
    {
     "data": {
      "text/html": [
       "<div>\n",
       "<style scoped>\n",
       "    .dataframe tbody tr th:only-of-type {\n",
       "        vertical-align: middle;\n",
       "    }\n",
       "\n",
       "    .dataframe tbody tr th {\n",
       "        vertical-align: top;\n",
       "    }\n",
       "\n",
       "    .dataframe thead th {\n",
       "        text-align: right;\n",
       "    }\n",
       "</style>\n",
       "<table border=\"1\" class=\"dataframe\">\n",
       "  <thead>\n",
       "    <tr style=\"text-align: right;\">\n",
       "      <th></th>\n",
       "      <th>Var1</th>\n",
       "      <th>Var2</th>\n",
       "      <th>Var3</th>\n",
       "      <th>Var4</th>\n",
       "      <th>Var5</th>\n",
       "      <th>Var6</th>\n",
       "      <th>Var7</th>\n",
       "      <th>Var8</th>\n",
       "      <th>Var9</th>\n",
       "      <th>Var10</th>\n",
       "      <th>...</th>\n",
       "      <th>Var184</th>\n",
       "      <th>Var185</th>\n",
       "      <th>Var186</th>\n",
       "      <th>Var187</th>\n",
       "      <th>Var188</th>\n",
       "      <th>Var189</th>\n",
       "      <th>Var190</th>\n",
       "      <th>Var209</th>\n",
       "      <th>Var230</th>\n",
       "      <th>labels</th>\n",
       "    </tr>\n",
       "  </thead>\n",
       "  <tbody>\n",
       "    <tr>\n",
       "      <th>count</th>\n",
       "      <td>0.0</td>\n",
       "      <td>0.0</td>\n",
       "      <td>0.0</td>\n",
       "      <td>1.0</td>\n",
       "      <td>0.0</td>\n",
       "      <td>14.000000</td>\n",
       "      <td>14.000000</td>\n",
       "      <td>0.0</td>\n",
       "      <td>0.0</td>\n",
       "      <td>0.0</td>\n",
       "      <td>...</td>\n",
       "      <td>0.0</td>\n",
       "      <td>0.0</td>\n",
       "      <td>0.0</td>\n",
       "      <td>0.0</td>\n",
       "      <td>0.0</td>\n",
       "      <td>8.000000</td>\n",
       "      <td>0.0</td>\n",
       "      <td>0.0</td>\n",
       "      <td>0.0</td>\n",
       "      <td>15.000000</td>\n",
       "    </tr>\n",
       "    <tr>\n",
       "      <th>mean</th>\n",
       "      <td>NaN</td>\n",
       "      <td>NaN</td>\n",
       "      <td>NaN</td>\n",
       "      <td>0.0</td>\n",
       "      <td>NaN</td>\n",
       "      <td>1008.000000</td>\n",
       "      <td>6.000000</td>\n",
       "      <td>NaN</td>\n",
       "      <td>NaN</td>\n",
       "      <td>NaN</td>\n",
       "      <td>...</td>\n",
       "      <td>NaN</td>\n",
       "      <td>NaN</td>\n",
       "      <td>NaN</td>\n",
       "      <td>NaN</td>\n",
       "      <td>NaN</td>\n",
       "      <td>300.000000</td>\n",
       "      <td>NaN</td>\n",
       "      <td>NaN</td>\n",
       "      <td>NaN</td>\n",
       "      <td>0.200000</td>\n",
       "    </tr>\n",
       "    <tr>\n",
       "      <th>std</th>\n",
       "      <td>NaN</td>\n",
       "      <td>NaN</td>\n",
       "      <td>NaN</td>\n",
       "      <td>NaN</td>\n",
       "      <td>NaN</td>\n",
       "      <td>893.523019</td>\n",
       "      <td>3.741657</td>\n",
       "      <td>NaN</td>\n",
       "      <td>NaN</td>\n",
       "      <td>NaN</td>\n",
       "      <td>...</td>\n",
       "      <td>NaN</td>\n",
       "      <td>NaN</td>\n",
       "      <td>NaN</td>\n",
       "      <td>NaN</td>\n",
       "      <td>NaN</td>\n",
       "      <td>55.734062</td>\n",
       "      <td>NaN</td>\n",
       "      <td>NaN</td>\n",
       "      <td>NaN</td>\n",
       "      <td>0.414039</td>\n",
       "    </tr>\n",
       "    <tr>\n",
       "      <th>min</th>\n",
       "      <td>NaN</td>\n",
       "      <td>NaN</td>\n",
       "      <td>NaN</td>\n",
       "      <td>0.0</td>\n",
       "      <td>NaN</td>\n",
       "      <td>469.000000</td>\n",
       "      <td>0.000000</td>\n",
       "      <td>NaN</td>\n",
       "      <td>NaN</td>\n",
       "      <td>NaN</td>\n",
       "      <td>...</td>\n",
       "      <td>NaN</td>\n",
       "      <td>NaN</td>\n",
       "      <td>NaN</td>\n",
       "      <td>NaN</td>\n",
       "      <td>NaN</td>\n",
       "      <td>198.000000</td>\n",
       "      <td>NaN</td>\n",
       "      <td>NaN</td>\n",
       "      <td>NaN</td>\n",
       "      <td>0.000000</td>\n",
       "    </tr>\n",
       "    <tr>\n",
       "      <th>25%</th>\n",
       "      <td>NaN</td>\n",
       "      <td>NaN</td>\n",
       "      <td>NaN</td>\n",
       "      <td>0.0</td>\n",
       "      <td>NaN</td>\n",
       "      <td>640.500000</td>\n",
       "      <td>7.000000</td>\n",
       "      <td>NaN</td>\n",
       "      <td>NaN</td>\n",
       "      <td>NaN</td>\n",
       "      <td>...</td>\n",
       "      <td>NaN</td>\n",
       "      <td>NaN</td>\n",
       "      <td>NaN</td>\n",
       "      <td>NaN</td>\n",
       "      <td>NaN</td>\n",
       "      <td>273.000000</td>\n",
       "      <td>NaN</td>\n",
       "      <td>NaN</td>\n",
       "      <td>NaN</td>\n",
       "      <td>0.000000</td>\n",
       "    </tr>\n",
       "    <tr>\n",
       "      <th>50%</th>\n",
       "      <td>NaN</td>\n",
       "      <td>NaN</td>\n",
       "      <td>NaN</td>\n",
       "      <td>0.0</td>\n",
       "      <td>NaN</td>\n",
       "      <td>756.000000</td>\n",
       "      <td>7.000000</td>\n",
       "      <td>NaN</td>\n",
       "      <td>NaN</td>\n",
       "      <td>NaN</td>\n",
       "      <td>...</td>\n",
       "      <td>NaN</td>\n",
       "      <td>NaN</td>\n",
       "      <td>NaN</td>\n",
       "      <td>NaN</td>\n",
       "      <td>NaN</td>\n",
       "      <td>309.000000</td>\n",
       "      <td>NaN</td>\n",
       "      <td>NaN</td>\n",
       "      <td>NaN</td>\n",
       "      <td>0.000000</td>\n",
       "    </tr>\n",
       "    <tr>\n",
       "      <th>75%</th>\n",
       "      <td>NaN</td>\n",
       "      <td>NaN</td>\n",
       "      <td>NaN</td>\n",
       "      <td>0.0</td>\n",
       "      <td>NaN</td>\n",
       "      <td>959.000000</td>\n",
       "      <td>7.000000</td>\n",
       "      <td>NaN</td>\n",
       "      <td>NaN</td>\n",
       "      <td>NaN</td>\n",
       "      <td>...</td>\n",
       "      <td>NaN</td>\n",
       "      <td>NaN</td>\n",
       "      <td>NaN</td>\n",
       "      <td>NaN</td>\n",
       "      <td>NaN</td>\n",
       "      <td>324.000000</td>\n",
       "      <td>NaN</td>\n",
       "      <td>NaN</td>\n",
       "      <td>NaN</td>\n",
       "      <td>0.000000</td>\n",
       "    </tr>\n",
       "    <tr>\n",
       "      <th>max</th>\n",
       "      <td>NaN</td>\n",
       "      <td>NaN</td>\n",
       "      <td>NaN</td>\n",
       "      <td>0.0</td>\n",
       "      <td>NaN</td>\n",
       "      <td>4053.000000</td>\n",
       "      <td>14.000000</td>\n",
       "      <td>NaN</td>\n",
       "      <td>NaN</td>\n",
       "      <td>NaN</td>\n",
       "      <td>...</td>\n",
       "      <td>NaN</td>\n",
       "      <td>NaN</td>\n",
       "      <td>NaN</td>\n",
       "      <td>NaN</td>\n",
       "      <td>NaN</td>\n",
       "      <td>384.000000</td>\n",
       "      <td>NaN</td>\n",
       "      <td>NaN</td>\n",
       "      <td>NaN</td>\n",
       "      <td>1.000000</td>\n",
       "    </tr>\n",
       "  </tbody>\n",
       "</table>\n",
       "<p>8 rows × 193 columns</p>\n",
       "</div>"
      ],
      "text/plain": [
       "       Var1  Var2  Var3  Var4  Var5         Var6       Var7  Var8  Var9  \\\n",
       "count   0.0   0.0   0.0   1.0   0.0    14.000000  14.000000   0.0   0.0   \n",
       "mean    NaN   NaN   NaN   0.0   NaN  1008.000000   6.000000   NaN   NaN   \n",
       "std     NaN   NaN   NaN   NaN   NaN   893.523019   3.741657   NaN   NaN   \n",
       "min     NaN   NaN   NaN   0.0   NaN   469.000000   0.000000   NaN   NaN   \n",
       "25%     NaN   NaN   NaN   0.0   NaN   640.500000   7.000000   NaN   NaN   \n",
       "50%     NaN   NaN   NaN   0.0   NaN   756.000000   7.000000   NaN   NaN   \n",
       "75%     NaN   NaN   NaN   0.0   NaN   959.000000   7.000000   NaN   NaN   \n",
       "max     NaN   NaN   NaN   0.0   NaN  4053.000000  14.000000   NaN   NaN   \n",
       "\n",
       "       Var10    ...      Var184  Var185  Var186  Var187  Var188      Var189  \\\n",
       "count    0.0    ...         0.0     0.0     0.0     0.0     0.0    8.000000   \n",
       "mean     NaN    ...         NaN     NaN     NaN     NaN     NaN  300.000000   \n",
       "std      NaN    ...         NaN     NaN     NaN     NaN     NaN   55.734062   \n",
       "min      NaN    ...         NaN     NaN     NaN     NaN     NaN  198.000000   \n",
       "25%      NaN    ...         NaN     NaN     NaN     NaN     NaN  273.000000   \n",
       "50%      NaN    ...         NaN     NaN     NaN     NaN     NaN  309.000000   \n",
       "75%      NaN    ...         NaN     NaN     NaN     NaN     NaN  324.000000   \n",
       "max      NaN    ...         NaN     NaN     NaN     NaN     NaN  384.000000   \n",
       "\n",
       "       Var190  Var209  Var230     labels  \n",
       "count     0.0     0.0     0.0  15.000000  \n",
       "mean      NaN     NaN     NaN   0.200000  \n",
       "std       NaN     NaN     NaN   0.414039  \n",
       "min       NaN     NaN     NaN   0.000000  \n",
       "25%       NaN     NaN     NaN   0.000000  \n",
       "50%       NaN     NaN     NaN   0.000000  \n",
       "75%       NaN     NaN     NaN   0.000000  \n",
       "max       NaN     NaN     NaN   1.000000  \n",
       "\n",
       "[8 rows x 193 columns]"
      ]
     },
     "execution_count": 414,
     "metadata": {},
     "output_type": "execute_result"
    }
   ],
   "source": [
    "#сравним ее со статистикой по случайным объектам\n",
    "data.head(erInd.shape[0]).describe()"
   ]
  },
  {
   "cell_type": "code",
   "execution_count": null,
   "metadata": {},
   "outputs": [],
   "source": [
    "#можно сделать вывод, что модель чаще с увереностью дает ложноотрицательные результаты, то есть не определяет, что объект\n",
    "#сконен к оттоку"
   ]
  },
  {
   "cell_type": "markdown",
   "metadata": {},
   "source": [
    "9\\. По итогам проведенных экспериментов постройте финальную решение - модель с наилучшим качеством. Укажите, какие преобразования данных, параметры и пр. вы выбрали для построения финальной модели."
   ]
  },
  {
   "cell_type": "code",
   "execution_count": 348,
   "metadata": {},
   "outputs": [
    {
     "data": {
      "text/plain": [
       "array([0, 0, 0, 0, 0, 0, 0, 0, 0, 1], dtype=int64)"
      ]
     },
     "execution_count": 348,
     "metadata": {},
     "output_type": "execute_result"
    }
   ],
   "source": [
    "target_test[:10]"
   ]
  },
  {
   "cell_type": "code",
   "execution_count": 351,
   "metadata": {},
   "outputs": [],
   "source": [
    "#По итогам экспериметнов строим модель,выполняя стандартизацию числовых признаов, преобразуя категориальные признаки\n",
    "# c небольшим количеством категорий при помощи one-hot-encoding, удаляем признаки, в которых много NaN значений,\n",
    "#используем модель SGDClassifier(loss = 'log', class_weight='balanced', max_iter=1000, tol=1e-4, alpha=0.01, random_state=42)\n",
    "\n",
    "data = pd.read_csv('orange_small_churn_data.csv', delimiter =',')\n",
    "data['labels'] = pd.read_csv('orange_small_churn_labels.csv', header=None)\n",
    "#конвертируем колонку labels в int\n",
    "data = data.astype({'labels': 'int32'})\n",
    "#заменим все -1 в целевой переменной на 0\n",
    "data['labels'] = data['labels'].map({1: 1, -1: 0})\n",
    "from sklearn.model_selection import train_test_split\n",
    "data, test = train_test_split(data, test_size=0.15, random_state=42)\n",
    "target = np.array(data.iloc[:,-1])\n",
    "target_test = np.array(test.iloc[:,-1])\n",
    "#подготовим даные:\n",
    "#выделим категориальные признаки (для baseline решения, возможно будет достаточно числовых)\n",
    "numericalVarCount = 190\n",
    "categorialVarCount = 40\n",
    "\n",
    "data_num = data.iloc[:, 0:numericalVarCount]\n",
    "#удалим числовые признаки, содержащие слишком большое количество NaN - значений\n",
    "threshold = 0.7\n",
    "NaN_frac = data_num.isna().sum(axis = 0)/data_num.shape[0]\n",
    "numVarsToStay = list(NaN_frac[NaN_frac < threshold].index)\n",
    "data_num = data_num.loc[:,numVarsToStay]\n",
    "#Перед построением моделей, подготовим данные: заменим NaN на медианные значения,\n",
    "medians = data_num.median()\n",
    "data_num.fillna(medians, inplace=True)\n",
    "#выполним стандартизацию числовых признаков\n",
    "from sklearn.preprocessing import StandardScaler\n",
    "scaler = StandardScaler()\n",
    "data_num = scaler.fit_transform(data_num)\n",
    "\n",
    "# #обработаем категориальные признаки методикой one-hot-encoding\n",
    "from sklearn.feature_extraction import DictVectorizer as DV\n",
    "data_cat = data.iloc[:, numericalVarCount:-1]\n",
    "\n",
    "data_cat_oh = pd.get_dummies(data_cat, dummy_na=True, drop_first=True)\n",
    "NaN_frac = data_cat.isna().sum(axis = 0)/data_cat.shape[0]\n",
    "NaN_frac\n",
    "threshold = 0.1\n",
    "NaN_frac = data_cat.isna().sum(axis = 0)/data_num.shape[0]\n",
    "catVarsToStay = list(NaN_frac[NaN_frac < threshold].index)\n",
    "data_cat = data_cat.loc[:,catVarsToStay]\n",
    "data_cat = data_cat.fillna('NA').astype(str)\n",
    "\n",
    "#Подсчитаем количество уникальных значений в категориальных признаках, от этого будет зависеть способ кодировки\n",
    "unique_counts = []\n",
    "for c in data_cat.columns:\n",
    "    unique_counts.append(data_cat[c].dropna().unique().shape[0])\n",
    "cat_unique = pd.DataFrame()\n",
    "cat_unique['unique_counts'] = unique_counts\n",
    "cat_unique.index = data_cat.columns\n",
    "cat_unique.sort_values(by='unique_counts', ascending=False)\n",
    "cat_unique\n",
    "\n",
    "cat_feat_for_OHE = list(cat_unique[cat_unique['unique_counts'] < 50].index)\n",
    "cat_feat_for_OHE\n",
    "encoder = DV(sparse = False)\n",
    "data_cat_oh = encoder.fit_transform(data_cat[cat_feat_for_OHE].T.to_dict().values())\n",
    "\n",
    "data_all = np.hstack((data_num,data_cat_oh))\n",
    "data_all.shape\n",
    "\n",
    "#выполняем на ней ту же обработку, что для набора обучения\n",
    "test_num = test.iloc[:, 0:numericalVarCount]\n",
    "#выкинем признаки, которые выкидывали при обучении\n",
    "test_num = test.loc[:,numVarsToStay]\n",
    "#заполним NaN медианными значениями train!!! набора\n",
    "test_num.fillna(medians, inplace=True)\n",
    "#выполним стандартизацию, с теми же параметрами, что при обучении:\n",
    "test_num = scaler.transform(test_num)\n",
    "test_cat = test.iloc[:, numericalVarCount:-1]\n",
    "test_cat = test_cat.loc[:,catVarsToStay]\n",
    "test_cat = test_cat.fillna('NA').astype(str)\n",
    "test_cat_oh = encoder.transform(test_cat[cat_feat_for_OHE].T.to_dict().values())\n",
    "test_all = np.hstack((test_num,test_cat_oh))\n",
    "clf = SGDClassifier(loss = 'log', class_weight='balanced', max_iter=1000, tol=1e-4, alpha=0.01, random_state=42)\n",
    "clf.fit(data_all, target)\n",
    "scores = cross_val_score(clf, data_all, target, cv=3, scoring = 'f1')\n",
    "last_score = scores.mean()"
   ]
  },
  {
   "cell_type": "markdown",
   "metadata": {},
   "source": [
    "10\\. Подумайте, можно ли еще улучшить модель? Что для этого можно сделать? "
   ]
  },
  {
   "cell_type": "code",
   "execution_count": null,
   "metadata": {},
   "outputs": [],
   "source": [
    "#Как видно из анализа в пункте 1 модель можно улучшить посредством использования бОльшего количества данных"
   ]
  }
 ],
 "metadata": {
  "kernelspec": {
   "display_name": "Python 3",
   "language": "python",
   "name": "python3"
  },
  "language_info": {
   "codemirror_mode": {
    "name": "ipython",
    "version": 3
   },
   "file_extension": ".py",
   "mimetype": "text/x-python",
   "name": "python",
   "nbconvert_exporter": "python",
   "pygments_lexer": "ipython3",
   "version": "3.6.3"
  }
 },
 "nbformat": 4,
 "nbformat_minor": 1
}
